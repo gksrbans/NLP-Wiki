{
  "nbformat": 4,
  "nbformat_minor": 0,
  "metadata": {
    "colab": {
      "name": "정제(Cleaning)와 정규화(Normalization).ipynb",
      "provenance": [],
      "authorship_tag": "ABX9TyPB2QMAo/cn+HxWGhutHLfI",
      "include_colab_link": true
    },
    "kernelspec": {
      "name": "python3",
      "display_name": "Python 3"
    },
    "language_info": {
      "name": "python"
    }
  },
  "cells": [
    {
      "cell_type": "markdown",
      "metadata": {
        "id": "view-in-github",
        "colab_type": "text"
      },
      "source": [
        "<a href=\"https://colab.research.google.com/github/gksrbans/NLP-Wiki/blob/main/%EC%A0%95%EC%A0%9C(Cleaning)%EC%99%80_%EC%A0%95%EA%B7%9C%ED%99%94(Normalization).ipynb\" target=\"_parent\"><img src=\"https://colab.research.google.com/assets/colab-badge.svg\" alt=\"Open In Colab\"/></a>"
      ]
    },
    {
      "cell_type": "code",
      "metadata": {
        "id": "Cg6do-9YcC0J",
        "colab": {
          "base_uri": "https://localhost:8080/"
        },
        "outputId": "5a51bfbc-1a5c-4ac3-99cb-ec37ed5e8875"
      },
      "source": [
        "# 정제 = 코퍼스에서 노이즈 데이터를 제거\n",
        "# 정규화 = 표현 방법이 다른 단어들을 통합시켜 같은 단어를 만듬.\n",
        "\n",
        "# 일반적인 경우(영어) 모든 글자를 소문자를 바꾸는게 실용적일 수 있음.\n",
        "\n",
        "import re\n",
        "text = \"I was wondering if anyone out there could enlighten me on this car.\"\n",
        "shortword = re.compile(r'\\W*\\b\\w{1,2}\\b')\n",
        "\n",
        "print(shortword.sub('', text))"
      ],
      "execution_count": 2,
      "outputs": [
        {
          "output_type": "stream",
          "name": "stdout",
          "text": [
            "re.compile('\\\\W*\\\\b\\\\w{1,2}\\\\b')\n",
            " was wondering anyone out there could enlighten this car.\n"
          ]
        }
      ]
    },
    {
      "cell_type": "markdown",
      "metadata": {
        "id": "rfBCgexk98Ym"
      },
      "source": [
        ""
      ]
    }
  ]
}
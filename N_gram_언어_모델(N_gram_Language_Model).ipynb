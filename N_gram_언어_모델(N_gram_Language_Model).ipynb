{
  "nbformat": 4,
  "nbformat_minor": 0,
  "metadata": {
    "colab": {
      "name": "N-gram 언어 모델(N-gram Language Model).ipynb",
      "provenance": [],
      "authorship_tag": "ABX9TyMxQVc418hGqe1LV3khpwyu",
      "include_colab_link": true
    },
    "kernelspec": {
      "name": "python3",
      "display_name": "Python 3"
    },
    "language_info": {
      "name": "python"
    }
  },
  "cells": [
    {
      "cell_type": "markdown",
      "metadata": {
        "id": "view-in-github",
        "colab_type": "text"
      },
      "source": [
        "<a href=\"https://colab.research.google.com/github/gksrbans/NLP-Wiki/blob/main/N_gram_%EC%96%B8%EC%96%B4_%EB%AA%A8%EB%8D%B8(N_gram_Language_Model).ipynb\" target=\"_parent\"><img src=\"https://colab.research.google.com/assets/colab-badge.svg\" alt=\"Open In Colab\"/></a>"
      ]
    },
    {
      "cell_type": "code",
      "metadata": {
        "colab": {
          "base_uri": "https://localhost:8080/",
          "height": 135
        },
        "id": "XMkA7qxcSQhh",
        "outputId": "a72a57c6-c8c8-4b05-f026-4d4ac10a63a4"
      },
      "source": [
        "# n-gram 언어 모델은 여전히 카운트에 기반한 통계적 접근을 사용하고 있으므로 SLM의 일종\n",
        "\n",
        "# 이전에 등장한 모든 단어를 고려하는 것이 아니라 일부 단어만 고려하는 접근 방법을 사용합니다. 그리고 이때 일부 단어를 몇 개 보느냐를 결정하는데 이것이 n-gram에서의 n이 가지는 의미입니다.\n"
      ],
      "execution_count": 1,
      "outputs": [
        {
          "output_type": "error",
          "ename": "SyntaxError",
          "evalue": "ignored",
          "traceback": [
            "\u001b[0;36m  File \u001b[0;32m\"<ipython-input-1-e7b7b35a925d>\"\u001b[0;36m, line \u001b[0;32m1\u001b[0m\n\u001b[0;31m    n-gram 언어 모델은 여전히 카운트에 기반한 통계적 접근을 사용하고 있으므로 SLM의 일종\u001b[0m\n\u001b[0m            ^\u001b[0m\n\u001b[0;31mSyntaxError\u001b[0m\u001b[0;31m:\u001b[0m invalid syntax\n"
          ]
        }
      ]
    },
    {
      "cell_type": "code",
      "metadata": {
        "id": "FYv9fbbeSZiF"
      },
      "source": [
        "# SLM의 한계는 훈련 코퍼스안에 없는 단어일 경우 확률을 계산할 수 가없음\n",
        "# 그리고 단어가 길어질 수록 그 문장이 존재하지 않을 가능성이 옾음.\n",
        "# 그러니까 단어에서 n개를 다시 추출해서 거기서 존재할 확률을 찾는게 N-gram 언어 모델\n",
        "\n",
        "# n이 1일 때는 유니그램(unigram), 2일 때는 바이그램(bigram), 3일 때는 트라이그램(trigram)이라고 명명하고 n이 4 이상일 때는 gram 앞에 그대로 숫자를 붙여서 명명합니다.\n",
        "\n"
      ],
      "execution_count": null,
      "outputs": []
    },
    {
      "cell_type": "code",
      "metadata": {
        "id": "QdclbkEoWB8_"
      },
      "source": [
        ""
      ],
      "execution_count": null,
      "outputs": []
    }
  ]
}